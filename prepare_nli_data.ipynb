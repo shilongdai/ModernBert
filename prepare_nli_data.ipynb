{
 "cells": [
  {
   "cell_type": "code",
   "execution_count": 1,
   "metadata": {
    "collapsed": true
   },
   "outputs": [],
   "source": [
    "from typing import List, Dict, Any\n",
    "\n",
    "from datasets import load_dataset, concatenate_datasets\n",
    "from datasets import DatasetDict\n",
    "from transformers import AutoTokenizer\n",
    "from multiprocessing import cpu_count\n",
    "import random\n",
    "import numpy as np\n",
    "\n",
    "random.seed(93)\n",
    "np.random.seed(93)"
   ]
  },
  {
   "cell_type": "code",
   "execution_count": 2,
   "outputs": [
    {
     "data": {
      "text/plain": "'<s>'"
     },
     "execution_count": 2,
     "metadata": {},
     "output_type": "execute_result"
    }
   ],
   "source": [
    "tokenizer = AutoTokenizer.from_pretrained(\"mistralai/Mistral-7B-Instruct-v0.2\", add_eos_token=True)\n",
    "tokenizer.bos_token"
   ],
   "metadata": {
    "collapsed": false
   }
  },
  {
   "cell_type": "code",
   "execution_count": 3,
   "outputs": [
    {
     "data": {
      "text/plain": "{'input_ids': [[1, 415, 2936, 9060, 285, 1142, 2], [1, 14949, 754, 272, 17898, 3914, 2]], 'attention_mask': [[1, 1, 1, 1, 1, 1, 1], [1, 1, 1, 1, 1, 1, 1]]}"
     },
     "execution_count": 3,
     "metadata": {},
     "output_type": "execute_result"
    }
   ],
   "source": [
    "tokenizer([\"The quick brown fox\", \"jumped over the lazy dog\"])"
   ],
   "metadata": {
    "collapsed": false
   }
  },
  {
   "cell_type": "code",
   "execution_count": 4,
   "outputs": [
    {
     "data": {
      "text/plain": "DatasetDict({\n    train: Dataset({\n        features: ['premise', 'hypothesis', 'label', 'idx'],\n        num_rows: 392702\n    })\n    validation_matched: Dataset({\n        features: ['premise', 'hypothesis', 'label', 'idx'],\n        num_rows: 9815\n    })\n    validation_mismatched: Dataset({\n        features: ['premise', 'hypothesis', 'label', 'idx'],\n        num_rows: 9832\n    })\n    test_matched: Dataset({\n        features: ['premise', 'hypothesis', 'label', 'idx'],\n        num_rows: 9796\n    })\n    test_mismatched: Dataset({\n        features: ['premise', 'hypothesis', 'label', 'idx'],\n        num_rows: 9847\n    })\n})"
     },
     "execution_count": 4,
     "metadata": {},
     "output_type": "execute_result"
    }
   ],
   "source": [
    "ds = load_dataset(\"glue\", \"mnli\")\n",
    "ds"
   ],
   "metadata": {
    "collapsed": false
   }
  },
  {
   "cell_type": "code",
   "execution_count": 5,
   "outputs": [
    {
     "data": {
      "text/plain": "DatasetDict({\n    train: Dataset({\n        features: ['premise', 'hypothesis', 'label', 'idx'],\n        num_rows: 392702\n    })\n    test_matched: Dataset({\n        features: ['premise', 'hypothesis', 'label', 'idx'],\n        num_rows: 9796\n    })\n    test_mismatched: Dataset({\n        features: ['premise', 'hypothesis', 'label', 'idx'],\n        num_rows: 9847\n    })\n    eval: Dataset({\n        features: ['premise', 'hypothesis', 'label', 'idx'],\n        num_rows: 19647\n    })\n})"
     },
     "execution_count": 5,
     "metadata": {},
     "output_type": "execute_result"
    }
   ],
   "source": [
    "ds[\"eval\"] = concatenate_datasets([ds[\"validation_matched\"], ds[\"validation_mismatched\"]])\n",
    "del ds[\"validation_matched\"]\n",
    "del ds[\"validation_mismatched\"]\n",
    "ds"
   ],
   "metadata": {
    "collapsed": false
   }
  },
  {
   "cell_type": "code",
   "execution_count": 6,
   "outputs": [
    {
     "data": {
      "text/plain": "'Conceptually cream skimming has two basic dimensions - product and geography.'"
     },
     "execution_count": 6,
     "metadata": {},
     "output_type": "execute_result"
    }
   ],
   "source": [
    "ds[\"train\"][0][\"premise\"]"
   ],
   "metadata": {
    "collapsed": false
   }
  },
  {
   "cell_type": "code",
   "execution_count": 7,
   "outputs": [
    {
     "data": {
      "text/plain": "392702"
     },
     "execution_count": 7,
     "metadata": {},
     "output_type": "execute_result"
    }
   ],
   "source": [
    "len(ds[\"train\"][\"premise\"])"
   ],
   "metadata": {
    "collapsed": false
   }
  },
  {
   "cell_type": "code",
   "execution_count": 8,
   "outputs": [
    {
     "data": {
      "text/plain": "DatasetDict({\n    train: Dataset({\n        features: ['label', 'idx', 'input_ids', 'attention_mask'],\n        num_rows: 392702\n    })\n    test_matched: Dataset({\n        features: ['label', 'idx', 'input_ids', 'attention_mask'],\n        num_rows: 9796\n    })\n    test_mismatched: Dataset({\n        features: ['label', 'idx', 'input_ids', 'attention_mask'],\n        num_rows: 9847\n    })\n    eval: Dataset({\n        features: ['label', 'idx', 'input_ids', 'attention_mask'],\n        num_rows: 19647\n    })\n})"
     },
     "execution_count": 8,
     "metadata": {},
     "output_type": "execute_result"
    }
   ],
   "source": [
    "def create_sentence_pairs(batch):\n",
    "    result = {\n",
    "        \"input_ids\": [],\n",
    "        \"attention_mask\": []\n",
    "    }\n",
    "    premise_tokenized = tokenizer(batch['premise'])\n",
    "    hypothesis_tokenized = tokenizer(batch['hypothesis'])\n",
    "\n",
    "    for i in range(len(batch[\"premise\"])):\n",
    "\n",
    "        current_ids = []\n",
    "        current_mask = []\n",
    "\n",
    "        current_ids.extend(premise_tokenized[\"input_ids\"][i])\n",
    "        current_mask.extend(premise_tokenized[\"attention_mask\"][i])\n",
    "        current_ids.extend(hypothesis_tokenized[\"input_ids\"][i][1:])\n",
    "        current_mask.extend(hypothesis_tokenized[\"input_ids\"][i][1:])\n",
    "\n",
    "        result[\"input_ids\"].append(current_ids)\n",
    "        result[\"attention_mask\"].append(current_mask)\n",
    "\n",
    "    return result\n",
    "\n",
    "\n",
    "ds = ds.map(create_sentence_pairs, batched=True, num_proc=cpu_count() - 1)\n",
    "ds = ds.remove_columns([\"premise\", \"hypothesis\"])\n",
    "ds"
   ],
   "metadata": {
    "collapsed": false
   }
  },
  {
   "cell_type": "code",
   "execution_count": 9,
   "outputs": [
    {
     "data": {
      "text/plain": "'<s> Conceptually cream skimming has two basic dimensions - product and geography.</s> Product and geography are what make cream skimming work. </s>'"
     },
     "execution_count": 9,
     "metadata": {},
     "output_type": "execute_result"
    }
   ],
   "source": [
    "tokenizer.decode(ds[\"train\"][0][\"input_ids\"])"
   ],
   "metadata": {
    "collapsed": false
   }
  },
  {
   "cell_type": "code",
   "execution_count": 10,
   "outputs": [
    {
     "data": {
      "text/plain": "Saving the dataset (0/1 shards):   0%|          | 0/392702 [00:00<?, ? examples/s]",
      "application/vnd.jupyter.widget-view+json": {
       "version_major": 2,
       "version_minor": 0,
       "model_id": "c8a7717445f7477bb13bb810432b22f2"
      }
     },
     "metadata": {},
     "output_type": "display_data"
    },
    {
     "data": {
      "text/plain": "Saving the dataset (0/1 shards):   0%|          | 0/9796 [00:00<?, ? examples/s]",
      "application/vnd.jupyter.widget-view+json": {
       "version_major": 2,
       "version_minor": 0,
       "model_id": "895078bdc1834d759629172021ec6a55"
      }
     },
     "metadata": {},
     "output_type": "display_data"
    },
    {
     "data": {
      "text/plain": "Saving the dataset (0/1 shards):   0%|          | 0/9847 [00:00<?, ? examples/s]",
      "application/vnd.jupyter.widget-view+json": {
       "version_major": 2,
       "version_minor": 0,
       "model_id": "97b98360d6b240249bed218988404780"
      }
     },
     "metadata": {},
     "output_type": "display_data"
    },
    {
     "data": {
      "text/plain": "Saving the dataset (0/1 shards):   0%|          | 0/19647 [00:00<?, ? examples/s]",
      "application/vnd.jupyter.widget-view+json": {
       "version_major": 2,
       "version_minor": 0,
       "model_id": "631c3617e4df4e8fa04fc99a96f2414a"
      }
     },
     "metadata": {},
     "output_type": "display_data"
    }
   ],
   "source": [
    "ds.save_to_disk(\"./data/mnli_mistral\")"
   ],
   "metadata": {
    "collapsed": false
   }
  },
  {
   "cell_type": "code",
   "execution_count": 10,
   "outputs": [],
   "source": [],
   "metadata": {
    "collapsed": false
   }
  }
 ],
 "metadata": {
  "kernelspec": {
   "display_name": "Python 3",
   "language": "python",
   "name": "python3"
  },
  "language_info": {
   "codemirror_mode": {
    "name": "ipython",
    "version": 2
   },
   "file_extension": ".py",
   "mimetype": "text/x-python",
   "name": "python",
   "nbconvert_exporter": "python",
   "pygments_lexer": "ipython2",
   "version": "2.7.6"
  }
 },
 "nbformat": 4,
 "nbformat_minor": 0
}
