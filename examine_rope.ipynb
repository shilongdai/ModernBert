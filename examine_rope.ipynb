{
 "cells": [
  {
   "cell_type": "code",
   "execution_count": 1,
   "metadata": {
    "collapsed": true
   },
   "outputs": [
    {
     "name": "stderr",
     "output_type": "stream",
     "text": [
      "2023-12-30 22:10:56.362037: E external/local_xla/xla/stream_executor/cuda/cuda_dnn.cc:9261] Unable to register cuDNN factory: Attempting to register factory for plugin cuDNN when one has already been registered\n",
      "2023-12-30 22:10:56.362059: E external/local_xla/xla/stream_executor/cuda/cuda_fft.cc:607] Unable to register cuFFT factory: Attempting to register factory for plugin cuFFT when one has already been registered\n",
      "2023-12-30 22:10:56.362945: E external/local_xla/xla/stream_executor/cuda/cuda_blas.cc:1515] Unable to register cuBLAS factory: Attempting to register factory for plugin cuBLAS when one has already been registered\n",
      "2023-12-30 22:10:56.368117: I tensorflow/core/platform/cpu_feature_guard.cc:182] This TensorFlow binary is optimized to use available CPU instructions in performance-critical operations.\n",
      "To enable the following instructions: AVX2 FMA, in other operations, rebuild TensorFlow with the appropriate compiler flags.\n",
      "2023-12-30 22:10:56.979616: W tensorflow/compiler/tf2tensorrt/utils/py_utils.cc:38] TF-TRT Warning: Could not find TensorRT\n"
     ]
    },
    {
     "data": {
      "text/plain": "<torch._C.Generator at 0x7fc75c76adb0>"
     },
     "execution_count": 1,
     "metadata": {},
     "output_type": "execute_result"
    }
   ],
   "source": [
    "import gc\n",
    "import random\n",
    "from dataclasses import field, dataclass\n",
    "from typing import Optional, cast\n",
    "\n",
    "import evaluate\n",
    "import numpy as np\n",
    "import torch\n",
    "from datasets import load_from_disk, load_metric\n",
    "from transformers import AutoTokenizer, AutoModelForMaskedLM, DataCollatorForLanguageModeling, TrainingArguments, \\\n",
    "    Trainer, HfArgumentParser, AutoModelForSequenceClassification\n",
    "\n",
    "from rebert.initialize_via_roberta import load_transformers_base_bert, load_transformers_base_mlm\n",
    "from rebert.model import (ReBertConfig, ReBertForMaskedLM)\n",
    "\n",
    "seed = 42\n",
    "random.seed(42)\n",
    "np.random.seed(42)\n",
    "torch.manual_seed(42)"
   ]
  },
  {
   "cell_type": "code",
   "execution_count": 2,
   "outputs": [
    {
     "data": {
      "text/plain": "ReBertForMaskedLM(\n  (rebert): ReBertModel(\n    (embedding): ReBertEmbedding(\n      (word_embedding): Embedding(50265, 768, padding_idx=1)\n      (layer_norm): LayerNorm((768,), eps=1e-12, elementwise_affine=True)\n      (dropout): Dropout(p=0.1, inplace=False)\n    )\n    (encoder): ReBertEncoder(\n      (rope): ROPEEmbedding()\n      (encoder_layers): ModuleList(\n        (0-11): 12 x ReBertEncoderLayer(\n          (attention): ReBertMultiHeadAttention(\n            (self_attention): ReBertSelfAttention(\n              (q_proj): Linear(in_features=768, out_features=768, bias=True)\n              (k_proj): Linear(in_features=768, out_features=768, bias=True)\n              (v_proj): Linear(in_features=768, out_features=768, bias=True)\n              (attn_dropout): Dropout(p=0.1, inplace=False)\n              (rope): ROPEEmbedding()\n            )\n            (o_proj): Linear(in_features=768, out_features=768, bias=True)\n            (output_dropout): Dropout(p=0.1, inplace=False)\n            (output_norm): LayerNorm((768,), eps=1e-12, elementwise_affine=True)\n          )\n          (intermediate_proj): Linear(in_features=768, out_features=3072, bias=True)\n          (intermediate_act): GELU(approximate='none')\n          (out_proj): Linear(in_features=3072, out_features=768, bias=True)\n          (out_dropout): Dropout(p=0.1, inplace=False)\n          (out_norm): LayerNorm((768,), eps=1e-12, elementwise_affine=True)\n        )\n      )\n    )\n  )\n  (mlm_head): ReBertLMHead(\n    (transform): Linear(in_features=768, out_features=768, bias=True)\n    (transform_act): GELU(approximate='none')\n    (layer_norm): LayerNorm((768,), eps=1e-05, elementwise_affine=True)\n    (decoder): Linear(in_features=768, out_features=50265, bias=True)\n  )\n)"
     },
     "execution_count": 2,
     "metadata": {},
     "output_type": "execute_result"
    }
   ],
   "source": [
    "model = AutoModelForMaskedLM.from_pretrained(\"./rebert_rope/checkpoint-120000\")\n",
    "model"
   ],
   "metadata": {
    "collapsed": false
   }
  },
  {
   "cell_type": "code",
   "execution_count": 3,
   "outputs": [
    {
     "data": {
      "text/plain": "RobertaTokenizerFast(name_or_path='roberta-base', vocab_size=50265, model_max_length=512, is_fast=True, padding_side='right', truncation_side='right', special_tokens={'bos_token': '<s>', 'eos_token': '</s>', 'unk_token': '<unk>', 'sep_token': '</s>', 'pad_token': '<pad>', 'cls_token': '<s>', 'mask_token': '<mask>'}, clean_up_tokenization_spaces=True),  added_tokens_decoder={\n\t0: AddedToken(\"<s>\", rstrip=False, lstrip=False, single_word=False, normalized=True, special=True),\n\t1: AddedToken(\"<pad>\", rstrip=False, lstrip=False, single_word=False, normalized=True, special=True),\n\t2: AddedToken(\"</s>\", rstrip=False, lstrip=False, single_word=False, normalized=True, special=True),\n\t3: AddedToken(\"<unk>\", rstrip=False, lstrip=False, single_word=False, normalized=True, special=True),\n\t50264: AddedToken(\"<mask>\", rstrip=False, lstrip=True, single_word=False, normalized=False, special=True),\n}"
     },
     "execution_count": 3,
     "metadata": {},
     "output_type": "execute_result"
    }
   ],
   "source": [
    "tokenizer = AutoTokenizer.from_pretrained(\"roberta-base\")\n",
    "tokenizer"
   ],
   "metadata": {
    "collapsed": false
   }
  },
  {
   "cell_type": "code",
   "execution_count": 4,
   "outputs": [
    {
     "name": "stdout",
     "output_type": "stream",
     "text": [
      "Pre_adjust\n",
      "torch.Size([1, 13])\n",
      "torch.Size([13, 64])\n",
      "torch.Size([2, 12, 13, 64])\n",
      "Post_adjust\n",
      "torch.Size([1, 1, 13, 64])\n",
      "torch.Size([2, 12, 13, 64])\n",
      "Pre_adjust\n",
      "torch.Size([1, 13])\n",
      "torch.Size([13, 64])\n",
      "torch.Size([2, 12, 13, 64])\n",
      "Post_adjust\n",
      "torch.Size([1, 1, 13, 64])\n",
      "torch.Size([2, 12, 13, 64])\n",
      "Pre_adjust\n",
      "torch.Size([1, 13])\n",
      "torch.Size([13, 64])\n",
      "torch.Size([2, 12, 13, 64])\n",
      "Post_adjust\n",
      "torch.Size([1, 1, 13, 64])\n",
      "torch.Size([2, 12, 13, 64])\n",
      "Pre_adjust\n",
      "torch.Size([1, 13])\n",
      "torch.Size([13, 64])\n",
      "torch.Size([2, 12, 13, 64])\n",
      "Post_adjust\n",
      "torch.Size([1, 1, 13, 64])\n",
      "torch.Size([2, 12, 13, 64])\n",
      "Pre_adjust\n",
      "torch.Size([1, 13])\n",
      "torch.Size([13, 64])\n",
      "torch.Size([2, 12, 13, 64])\n",
      "Post_adjust\n",
      "torch.Size([1, 1, 13, 64])\n",
      "torch.Size([2, 12, 13, 64])\n",
      "Pre_adjust\n",
      "torch.Size([1, 13])\n",
      "torch.Size([13, 64])\n",
      "torch.Size([2, 12, 13, 64])\n",
      "Post_adjust\n",
      "torch.Size([1, 1, 13, 64])\n",
      "torch.Size([2, 12, 13, 64])\n",
      "Pre_adjust\n",
      "torch.Size([1, 13])\n",
      "torch.Size([13, 64])\n",
      "torch.Size([2, 12, 13, 64])\n",
      "Post_adjust\n",
      "torch.Size([1, 1, 13, 64])\n",
      "torch.Size([2, 12, 13, 64])\n",
      "Pre_adjust\n",
      "torch.Size([1, 13])\n",
      "torch.Size([13, 64])\n",
      "torch.Size([2, 12, 13, 64])\n",
      "Post_adjust\n",
      "torch.Size([1, 1, 13, 64])\n",
      "torch.Size([2, 12, 13, 64])\n",
      "Pre_adjust\n",
      "torch.Size([1, 13])\n",
      "torch.Size([13, 64])\n",
      "torch.Size([2, 12, 13, 64])\n",
      "Post_adjust\n",
      "torch.Size([1, 1, 13, 64])\n",
      "torch.Size([2, 12, 13, 64])\n",
      "Pre_adjust\n",
      "torch.Size([1, 13])\n",
      "torch.Size([13, 64])\n",
      "torch.Size([2, 12, 13, 64])\n",
      "Post_adjust\n",
      "torch.Size([1, 1, 13, 64])\n",
      "torch.Size([2, 12, 13, 64])\n",
      "Pre_adjust\n",
      "torch.Size([1, 13])\n",
      "torch.Size([13, 64])\n",
      "torch.Size([2, 12, 13, 64])\n",
      "Post_adjust\n",
      "torch.Size([1, 1, 13, 64])\n",
      "torch.Size([2, 12, 13, 64])\n",
      "Pre_adjust\n",
      "torch.Size([1, 13])\n",
      "torch.Size([13, 64])\n",
      "torch.Size([2, 12, 13, 64])\n",
      "Post_adjust\n",
      "torch.Size([1, 1, 13, 64])\n",
      "torch.Size([2, 12, 13, 64])\n",
      "Pre_adjust\n",
      "torch.Size([1, 13])\n",
      "torch.Size([13, 64])\n",
      "torch.Size([2, 12, 13, 64])\n",
      "Post_adjust\n",
      "torch.Size([1, 1, 13, 64])\n",
      "torch.Size([2, 12, 13, 64])\n",
      "Pre_adjust\n",
      "torch.Size([1, 13])\n",
      "torch.Size([13, 64])\n",
      "torch.Size([2, 12, 13, 64])\n",
      "Post_adjust\n",
      "torch.Size([1, 1, 13, 64])\n",
      "torch.Size([2, 12, 13, 64])\n",
      "Pre_adjust\n",
      "torch.Size([1, 13])\n",
      "torch.Size([13, 64])\n",
      "torch.Size([2, 12, 13, 64])\n",
      "Post_adjust\n",
      "torch.Size([1, 1, 13, 64])\n",
      "torch.Size([2, 12, 13, 64])\n",
      "Pre_adjust\n",
      "torch.Size([1, 13])\n",
      "torch.Size([13, 64])\n",
      "torch.Size([2, 12, 13, 64])\n",
      "Post_adjust\n",
      "torch.Size([1, 1, 13, 64])\n",
      "torch.Size([2, 12, 13, 64])\n",
      "Pre_adjust\n",
      "torch.Size([1, 13])\n",
      "torch.Size([13, 64])\n",
      "torch.Size([2, 12, 13, 64])\n",
      "Post_adjust\n",
      "torch.Size([1, 1, 13, 64])\n",
      "torch.Size([2, 12, 13, 64])\n",
      "Pre_adjust\n",
      "torch.Size([1, 13])\n",
      "torch.Size([13, 64])\n",
      "torch.Size([2, 12, 13, 64])\n",
      "Post_adjust\n",
      "torch.Size([1, 1, 13, 64])\n",
      "torch.Size([2, 12, 13, 64])\n",
      "Pre_adjust\n",
      "torch.Size([1, 13])\n",
      "torch.Size([13, 64])\n",
      "torch.Size([2, 12, 13, 64])\n",
      "Post_adjust\n",
      "torch.Size([1, 1, 13, 64])\n",
      "torch.Size([2, 12, 13, 64])\n",
      "Pre_adjust\n",
      "torch.Size([1, 13])\n",
      "torch.Size([13, 64])\n",
      "torch.Size([2, 12, 13, 64])\n",
      "Post_adjust\n",
      "torch.Size([1, 1, 13, 64])\n",
      "torch.Size([2, 12, 13, 64])\n",
      "Pre_adjust\n",
      "torch.Size([1, 13])\n",
      "torch.Size([13, 64])\n",
      "torch.Size([2, 12, 13, 64])\n",
      "Post_adjust\n",
      "torch.Size([1, 1, 13, 64])\n",
      "torch.Size([2, 12, 13, 64])\n",
      "Pre_adjust\n",
      "torch.Size([1, 13])\n",
      "torch.Size([13, 64])\n",
      "torch.Size([2, 12, 13, 64])\n",
      "Post_adjust\n",
      "torch.Size([1, 1, 13, 64])\n",
      "torch.Size([2, 12, 13, 64])\n",
      "Pre_adjust\n",
      "torch.Size([1, 13])\n",
      "torch.Size([13, 64])\n",
      "torch.Size([2, 12, 13, 64])\n",
      "Post_adjust\n",
      "torch.Size([1, 1, 13, 64])\n",
      "torch.Size([2, 12, 13, 64])\n",
      "Pre_adjust\n",
      "torch.Size([1, 13])\n",
      "torch.Size([13, 64])\n",
      "torch.Size([2, 12, 13, 64])\n",
      "Post_adjust\n",
      "torch.Size([1, 1, 13, 64])\n",
      "torch.Size([2, 12, 13, 64])\n"
     ]
    }
   ],
   "source": [
    "test_sentences = [\"Did the quick brown <mask> jumped over the lazy dog?\", \"Did the quick brown <mask> jumped over the lazy <mask>?\"]\n",
    "output = model(**tokenizer(test_sentences, return_tensors=\"pt\"))"
   ],
   "metadata": {
    "collapsed": false
   }
  },
  {
   "cell_type": "code",
   "execution_count": 5,
   "outputs": [
    {
     "data": {
      "text/plain": "['\\nDid the quick brown\\n jumped over the lazy dog?.',\n '\\nDid the quick brown\\n jumped over the lazy\\n?.']"
     },
     "execution_count": 5,
     "metadata": {},
     "output_type": "execute_result"
    }
   ],
   "source": [
    "tokenizer.batch_decode(torch.argmax(output.logits, dim=-1))"
   ],
   "metadata": {
    "collapsed": false
   }
  },
  {
   "cell_type": "code",
   "execution_count": null,
   "outputs": [],
   "source": [],
   "metadata": {
    "collapsed": false
   }
  }
 ],
 "metadata": {
  "kernelspec": {
   "display_name": "Python 3",
   "language": "python",
   "name": "python3"
  },
  "language_info": {
   "codemirror_mode": {
    "name": "ipython",
    "version": 2
   },
   "file_extension": ".py",
   "mimetype": "text/x-python",
   "name": "python",
   "nbconvert_exporter": "python",
   "pygments_lexer": "ipython2",
   "version": "2.7.6"
  }
 },
 "nbformat": 4,
 "nbformat_minor": 0
}
